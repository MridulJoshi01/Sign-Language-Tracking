{
 "cells": [
  {
   "cell_type": "code",
   "execution_count": 1,
   "id": "b0baea63-d1c6-45bc-9777-a10276fd220e",
   "metadata": {},
   "outputs": [
    {
     "name": "stdout",
     "output_type": "stream",
     "text": [
      "Requirement already satisfied: mediapipe in c:\\users\\dell\\anaconda3\\lib\\site-packages (0.10.21)\n",
      "Requirement already satisfied: absl-py in c:\\users\\dell\\anaconda3\\lib\\site-packages (from mediapipe) (2.1.0)\n",
      "Requirement already satisfied: attrs>=19.1.0 in c:\\users\\dell\\anaconda3\\lib\\site-packages (from mediapipe) (23.1.0)\n",
      "Requirement already satisfied: flatbuffers>=2.0 in c:\\users\\dell\\anaconda3\\lib\\site-packages (from mediapipe) (25.2.10)\n",
      "Requirement already satisfied: jax in c:\\users\\dell\\anaconda3\\lib\\site-packages (from mediapipe) (0.5.1)\n",
      "Requirement already satisfied: jaxlib in c:\\users\\dell\\anaconda3\\lib\\site-packages (from mediapipe) (0.5.1)\n",
      "Requirement already satisfied: matplotlib in c:\\users\\dell\\anaconda3\\lib\\site-packages (from mediapipe) (3.9.2)\n",
      "Requirement already satisfied: numpy<2 in c:\\users\\dell\\anaconda3\\lib\\site-packages (from mediapipe) (1.26.4)\n",
      "Requirement already satisfied: opencv-contrib-python in c:\\users\\dell\\anaconda3\\lib\\site-packages (from mediapipe) (4.11.0.86)\n",
      "Requirement already satisfied: protobuf<5,>=4.25.3 in c:\\users\\dell\\anaconda3\\lib\\site-packages (from mediapipe) (4.25.3)\n",
      "Requirement already satisfied: sounddevice>=0.4.4 in c:\\users\\dell\\anaconda3\\lib\\site-packages (from mediapipe) (0.5.1)\n",
      "Requirement already satisfied: sentencepiece in c:\\users\\dell\\anaconda3\\lib\\site-packages (from mediapipe) (0.2.0)\n",
      "Requirement already satisfied: CFFI>=1.0 in c:\\users\\dell\\anaconda3\\lib\\site-packages (from sounddevice>=0.4.4->mediapipe) (1.17.1)\n",
      "Requirement already satisfied: ml_dtypes>=0.4.0 in c:\\users\\dell\\anaconda3\\lib\\site-packages (from jax->mediapipe) (0.5.1)\n",
      "Requirement already satisfied: opt_einsum in c:\\users\\dell\\anaconda3\\lib\\site-packages (from jax->mediapipe) (3.4.0)\n",
      "Requirement already satisfied: scipy>=1.11.1 in c:\\users\\dell\\anaconda3\\lib\\site-packages (from jax->mediapipe) (1.13.1)\n",
      "Requirement already satisfied: contourpy>=1.0.1 in c:\\users\\dell\\anaconda3\\lib\\site-packages (from matplotlib->mediapipe) (1.2.0)\n",
      "Requirement already satisfied: cycler>=0.10 in c:\\users\\dell\\anaconda3\\lib\\site-packages (from matplotlib->mediapipe) (0.11.0)\n",
      "Requirement already satisfied: fonttools>=4.22.0 in c:\\users\\dell\\anaconda3\\lib\\site-packages (from matplotlib->mediapipe) (4.51.0)\n",
      "Requirement already satisfied: kiwisolver>=1.3.1 in c:\\users\\dell\\anaconda3\\lib\\site-packages (from matplotlib->mediapipe) (1.4.4)\n",
      "Requirement already satisfied: packaging>=20.0 in c:\\users\\dell\\anaconda3\\lib\\site-packages (from matplotlib->mediapipe) (24.1)\n",
      "Requirement already satisfied: pillow>=8 in c:\\users\\dell\\anaconda3\\lib\\site-packages (from matplotlib->mediapipe) (10.4.0)\n",
      "Requirement already satisfied: pyparsing>=2.3.1 in c:\\users\\dell\\anaconda3\\lib\\site-packages (from matplotlib->mediapipe) (3.1.2)\n",
      "Requirement already satisfied: python-dateutil>=2.7 in c:\\users\\dell\\anaconda3\\lib\\site-packages (from matplotlib->mediapipe) (2.9.0.post0)\n",
      "Requirement already satisfied: pycparser in c:\\users\\dell\\anaconda3\\lib\\site-packages (from CFFI>=1.0->sounddevice>=0.4.4->mediapipe) (2.21)\n",
      "Requirement already satisfied: six>=1.5 in c:\\users\\dell\\anaconda3\\lib\\site-packages (from python-dateutil>=2.7->matplotlib->mediapipe) (1.16.0)\n"
     ]
    }
   ],
   "source": [
    "!pip install mediapipe"
   ]
  },
  {
   "cell_type": "code",
   "execution_count": 3,
   "id": "6803a1e3-423e-4b35-9f8e-105bf0696a03",
   "metadata": {},
   "outputs": [
    {
     "name": "stdout",
     "output_type": "stream",
     "text": [
      "Requirement already satisfied: numpy in c:\\users\\dell\\anaconda3\\lib\\site-packages (1.26.4)\n"
     ]
    }
   ],
   "source": [
    "!pip install numpy"
   ]
  },
  {
   "cell_type": "code",
   "execution_count": 5,
   "id": "19424410-3262-4458-b33d-a99a5dc9ae62",
   "metadata": {},
   "outputs": [
    {
     "name": "stdout",
     "output_type": "stream",
     "text": [
      "Requirement already satisfied: joblib in c:\\users\\dell\\anaconda3\\lib\\site-packages (1.4.2)\n"
     ]
    }
   ],
   "source": [
    "!pip install joblib"
   ]
  },
  {
   "cell_type": "code",
   "execution_count": 7,
   "id": "7477afe7-8e70-41a0-9f19-ea4518be1844",
   "metadata": {},
   "outputs": [
    {
     "name": "stdout",
     "output_type": "stream",
     "text": [
      "Requirement already satisfied: pillow in c:\\users\\dell\\anaconda3\\lib\\site-packages (10.4.0)\n"
     ]
    }
   ],
   "source": [
    "!pip install pillow"
   ]
  },
  {
   "cell_type": "code",
   "execution_count": 11,
   "id": "2e133729-458f-4bbb-a6f0-ff1a36aaf457",
   "metadata": {},
   "outputs": [
    {
     "name": "stdout",
     "output_type": "stream",
     "text": [
      "Requirement already satisfied: opencv-python in c:\\users\\dell\\anaconda3\\lib\\site-packages (4.11.0.86)\n",
      "Requirement already satisfied: numpy>=1.21.2 in c:\\users\\dell\\anaconda3\\lib\\site-packages (from opencv-python) (1.26.4)\n"
     ]
    }
   ],
   "source": [
    "!pip install opencv-python"
   ]
  },
  {
   "cell_type": "code",
   "execution_count": 13,
   "id": "35cca74d-5fce-4e4e-a045-e78563155a26",
   "metadata": {},
   "outputs": [
    {
     "name": "stdout",
     "output_type": "stream",
     "text": [
      "Collecting tk\n",
      "  Downloading tk-0.1.0-py3-none-any.whl.metadata (693 bytes)\n",
      "Downloading tk-0.1.0-py3-none-any.whl (3.9 kB)\n",
      "Installing collected packages: tk\n",
      "Successfully installed tk-0.1.0\n"
     ]
    }
   ],
   "source": [
    "!pip install tk"
   ]
  },
  {
   "cell_type": "code",
   "execution_count": 2,
   "id": "ea1f9023-fca6-4448-837e-3e6615da0db8",
   "metadata": {},
   "outputs": [
    {
     "name": "stdout",
     "output_type": "stream",
     "text": [
      "Model Exists: False\n"
     ]
    }
   ],
   "source": [
    "import os\n",
    "print(\"Model Exists:\", os.path.exists(\"sign_language_model.pkl\"))\n"
   ]
  },
  {
   "cell_type": "code",
   "execution_count": 10,
   "id": "8953f3f6-b962-408f-8b85-40ae5bf82d63",
   "metadata": {},
   "outputs": [
    {
     "name": "stdout",
     "output_type": "stream",
     "text": [
      "Press 's' to save hand landmarks for the current sign, and 'q' to quit.\n"
     ]
    },
    {
     "name": "stdin",
     "output_type": "stream",
     "text": [
      "Enter the corresponding letter (A-Z):  C\n"
     ]
    },
    {
     "name": "stdout",
     "output_type": "stream",
     "text": [
      "Saved: C\n"
     ]
    },
    {
     "name": "stdin",
     "output_type": "stream",
     "text": [
      "Enter the corresponding letter (A-Z):  Promise\n"
     ]
    },
    {
     "name": "stdout",
     "output_type": "stream",
     "text": [
      "Saved: Promise\n"
     ]
    },
    {
     "name": "stdin",
     "output_type": "stream",
     "text": [
      "Enter the corresponding letter (A-Z):  Shy\n"
     ]
    },
    {
     "name": "stdout",
     "output_type": "stream",
     "text": [
      "Saved: Shy\n",
      "Dataset saved as sign_language_dataset.csv\n"
     ]
    }
   ],
   "source": [
    "import cv2\n",
    "import mediapipe as mp\n",
    "import numpy as np\n",
    "import pandas as pd\n",
    "import time\n",
    "\n",
    "# Initialize MediaPipe Hands\n",
    "mp_hands = mp.solutions.hands\n",
    "mp_drawing = mp.solutions.drawing_utils\n",
    "hands = mp_hands.Hands(min_detection_confidence=0.7, min_tracking_confidence=0.7)\n",
    "\n",
    "# Open webcam\n",
    "cap = cv2.VideoCapture(0)\n",
    "\n",
    "data = []  # List to store landmarks and labels\n",
    "labels = []  # List to store corresponding labels\n",
    "output_file = \"sign_language_dataset.csv\"\n",
    "\n",
    "print(\"Press 's' to save hand landmarks for the current sign, and 'q' to quit.\")\n",
    "\n",
    "while cap.isOpened():\n",
    "    ret, frame = cap.read()\n",
    "    if not ret:\n",
    "        break\n",
    "    \n",
    "    # Flip and convert to RGB\n",
    "    frame = cv2.flip(frame, 1)\n",
    "    rgb_frame = cv2.cvtColor(frame, cv2.COLOR_BGR2RGB)\n",
    "    \n",
    "    # Process the frame\n",
    "    results = hands.process(rgb_frame)\n",
    "    \n",
    "    if results.multi_hand_landmarks:\n",
    "        for hand_landmarks in results.multi_hand_landmarks:\n",
    "            mp_drawing.draw_landmarks(frame, hand_landmarks, mp_hands.HAND_CONNECTIONS)\n",
    "            \n",
    "            # Extract landmark positions\n",
    "            landmarks = []\n",
    "            for lm in hand_landmarks.landmark:\n",
    "                landmarks.extend([lm.x, lm.y, lm.z])\n",
    "            \n",
    "            # Display instruction\n",
    "            cv2.putText(frame, \"Press 's' to save\", (50, 50), cv2.FONT_HERSHEY_SIMPLEX, 1, (0, 255, 0), 2)\n",
    "            \n",
    "            # Capture data on 's' key press\n",
    "            if cv2.waitKey(1) & 0xFF == ord('s'):\n",
    "                sign_label = input(\"Enter the corresponding letter (A-Z): \")\n",
    "                data.append(landmarks)\n",
    "                labels.append(sign_label.upper())\n",
    "                print(f\"Saved: {sign_label}\")\n",
    "    \n",
    "    # Show frame\n",
    "    cv2.imshow(\"Sign Language Data Collection\", frame)\n",
    "    \n",
    "    # Exit on 'q' key\n",
    "    if cv2.waitKey(1) & 0xFF == ord('q'):\n",
    "        break\n",
    "\n",
    "cap.release()\n",
    "cv2.destroyAllWindows()\n",
    "\n",
    "# Save collected data\n",
    "if data:\n",
    "    df = pd.DataFrame(data)\n",
    "    df['label'] = labels\n",
    "    df.to_csv(output_file, index=False)\n",
    "    print(f\"Dataset saved as {output_file}\")\n",
    "else:\n",
    "    print(\"No data collected.\")\n"
   ]
  },
  {
   "cell_type": "code",
   "execution_count": 16,
   "id": "919c982e-577b-4757-9c54-6d1fd9ce0fa3",
   "metadata": {},
   "outputs": [
    {
     "name": "stdout",
     "output_type": "stream",
     "text": [
      "Collecting pillow<10\n",
      "  Downloading Pillow-9.5.0-cp312-cp312-win_amd64.whl.metadata (9.7 kB)\n",
      "Downloading Pillow-9.5.0-cp312-cp312-win_amd64.whl (2.5 MB)\n",
      "   ---------------------------------------- 0.0/2.5 MB ? eta -:--:--\n",
      "   ---------------------------------------- 0.0/2.5 MB ? eta -:--:--\n",
      "   -------- ------------------------------- 0.5/2.5 MB 1.4 MB/s eta 0:00:02\n",
      "   ------------ --------------------------- 0.8/2.5 MB 1.5 MB/s eta 0:00:02\n",
      "   ---------------- ----------------------- 1.0/2.5 MB 1.3 MB/s eta 0:00:02\n",
      "   -------------------- ------------------- 1.3/2.5 MB 1.4 MB/s eta 0:00:01\n",
      "   ------------------------- -------------- 1.6/2.5 MB 1.4 MB/s eta 0:00:01\n",
      "   ----------------------------- ---------- 1.8/2.5 MB 1.4 MB/s eta 0:00:01\n",
      "   ------------------------------------- -- 2.4/2.5 MB 1.5 MB/s eta 0:00:01\n",
      "   ---------------------------------------- 2.5/2.5 MB 1.4 MB/s eta 0:00:00\n",
      "Installing collected packages: pillow\n",
      "  Attempting uninstall: pillow\n",
      "    Found existing installation: pillow 10.4.0\n",
      "    Uninstalling pillow-10.4.0:\n",
      "      Successfully uninstalled pillow-10.4.0\n",
      "Successfully installed pillow-9.5.0\n"
     ]
    }
   ],
   "source": [
    "!pip install \"pillow<10\""
   ]
  },
  {
   "cell_type": "code",
   "execution_count": 5,
   "id": "689d5b31-678b-4ba8-ac07-e9b40cfe37a7",
   "metadata": {},
   "outputs": [],
   "source": [
    "import cv2\n",
    "import mediapipe as mp\n",
    "import numpy as np\n",
    "import joblib\n",
    "import os\n",
    "import tkinter as tk\n",
    "from tkinter import Label, Frame\n",
    "from tkinter import ttk  # Import ttk for modern styling\n",
    "from PIL import Image, ImageTk\n",
    "\n",
    "# Load trained model\n",
    "model_path = \"sign_language_model.pkl\"\n",
    "if not os.path.exists(model_path):\n",
    "    print(\"Error: Model not found! Train the model first.\")\n",
    "    exit()\n",
    "\n",
    "model = joblib.load(model_path)\n",
    "\n",
    "# Initialize MediaPipe Hands\n",
    "mp_hands = mp.solutions.hands\n",
    "mp_drawing = mp.solutions.drawing_utils\n",
    "hands = mp_hands.Hands(min_detection_confidence=0.7, min_tracking_confidence=0.7)\n",
    "\n",
    "# File to save recognized signs\n",
    "output_file = \"recognized_signs.txt\"\n",
    "with open(output_file, \"w\") as f:\n",
    "    f.write(\"Recognized Sign Language Output:\\n\")\n",
    "\n",
    "# Initialize webcam\n",
    "cap = cv2.VideoCapture(0)\n",
    "is_running = False  # To control the webcam loop\n",
    "\n",
    "# Create UI\n",
    "root = tk.Tk()\n",
    "root.title(\"Sign Language Recognition\")\n",
    "root.geometry(\"900x650\")\n",
    "root.configure(bg=\"#121212\")  # Dark theme\n",
    "\n",
    "# Set Mars image as application logo\n",
    "try:\n",
    "    logo_img = Image.open(\"mars.png\")\n",
    "    logo_imgtk = ImageTk.PhotoImage(logo_img)\n",
    "    root.iconphoto(False, logo_imgtk)  # Set application window icon\n",
    "except FileNotFoundError:\n",
    "    print(\"Error: 'mars.png' not found!\")\n",
    "\n",
    "# ---- Tkinter Theming (Fixed Buttons) ----\n",
    "style = ttk.Style()\n",
    "style.theme_use(\"clam\")  # Ensures color styles apply correctly\n",
    "\n",
    "# Base button style\n",
    "style.configure(\"TButton\", font=(\"Arial\", 16), padding=10, borderwidth=2, relief=\"flat\")\n",
    "\n",
    "# Start Button (Green)\n",
    "style.configure(\"Start.TButton\", background=\"#4CAF50\", foreground=\"white\")\n",
    "style.map(\"Start.TButton\", background=[(\"active\", \"#45a049\")], foreground=[(\"active\", \"white\")])\n",
    "\n",
    "# Stop Button (Red)\n",
    "style.configure(\"Stop.TButton\", background=\"#D32F2F\", foreground=\"white\")\n",
    "style.map(\"Stop.TButton\", background=[(\"active\", \"#b71c1c\")], foreground=[(\"active\", \"white\")])\n",
    "\n",
    "# ---- UI Frames ----\n",
    "header_frame = Frame(root, bg=\"#1E1E1E\", pady=10)\n",
    "header_frame.pack(fill=\"x\")\n",
    "\n",
    "main_frame = Frame(root, bg=\"#121212\")\n",
    "main_frame.pack(expand=True)\n",
    "\n",
    "footer_frame = Frame(root, bg=\"#1E1E1E\", pady=10)\n",
    "footer_frame.pack(fill=\"x\")\n",
    "\n",
    "# ---- Logo & Title ----\n",
    "try:\n",
    "    logo_img_resized = logo_img.resize((100, 100), Image.LANCZOS)\n",
    "    logo_imgtk_resized = ImageTk.PhotoImage(logo_img_resized)\n",
    "    logo_label = Label(header_frame, image=logo_imgtk_resized, bg=\"#1E1E1E\")\n",
    "    logo_label.image = logo_imgtk_resized  # Prevent garbage collection\n",
    "    logo_label.pack(side=\"left\", padx=10)\n",
    "except NameError:\n",
    "    print(\"Logo image not loaded.\")\n",
    "\n",
    "title_label = Label(header_frame, text=\"Sign Language Recognition\", font=(\"Arial\", 28, \"bold\"), fg=\"white\", bg=\"#1E1E1E\")\n",
    "title_label.pack(side=\"left\", padx=20)\n",
    "\n",
    "# ---- Video Display ----\n",
    "video_label = Label(main_frame, bg=\"#1E1E1E\")\n",
    "video_label.pack(pady=10)\n",
    "\n",
    "# ---- Recognized Sign Display ----\n",
    "recognized_label = Label(main_frame, text=\"Detected: ?\", font=(\"Arial\", 24, \"bold\"), fg=\"#4CAF50\", bg=\"#121212\")\n",
    "recognized_label.pack(pady=20)\n",
    "\n",
    "# ---- Process Video Function ----\n",
    "def process_video():\n",
    "    global is_running\n",
    "    if not is_running:\n",
    "        return\n",
    "    \n",
    "    ret, frame = cap.read()\n",
    "    if not ret:\n",
    "        root.after(10, process_video)\n",
    "        return\n",
    "    \n",
    "    frame = cv2.flip(frame, 1)\n",
    "    rgb_frame = cv2.cvtColor(frame, cv2.COLOR_BGR2RGB)\n",
    "    results = hands.process(rgb_frame)\n",
    "\n",
    "    recognized_letter = \"?\"\n",
    "    if results.multi_hand_landmarks:\n",
    "        for hand_landmarks in results.multi_hand_landmarks:\n",
    "            mp_drawing.draw_landmarks(frame, hand_landmarks, mp_hands.HAND_CONNECTIONS)\n",
    "            landmarks = [coord for lm in hand_landmarks.landmark for coord in (lm.x, lm.y, lm.z)]\n",
    "\n",
    "            if len(landmarks) == model.n_features_in_:  # Check if correct feature length\n",
    "                landmarks = np.array(landmarks).reshape(1, -1)\n",
    "                recognized_letter = model.predict(landmarks)[0]\n",
    "                with open(output_file, \"a\") as f:\n",
    "                    f.write(recognized_letter + \"\\n\")\n",
    "\n",
    "    # Update recognized sign label\n",
    "    recognized_label.config(text=f\"Detected: {recognized_letter}\")\n",
    "\n",
    "    # Convert frame for Tkinter\n",
    "    img = Image.fromarray(cv2.cvtColor(frame, cv2.COLOR_BGR2RGB))\n",
    "    img = img.resize((640, 480), Image.LANCZOS)\n",
    "    imgtk = ImageTk.PhotoImage(image=img)\n",
    "\n",
    "    # Store a reference to avoid garbage collection\n",
    "    video_label.imgtk = imgtk\n",
    "    video_label.configure(image=imgtk)\n",
    "    \n",
    "    root.after(10, process_video)  # Call function recursively\n",
    "\n",
    "# ---- Start/Stop Functions ----\n",
    "def start_recognition():\n",
    "    global is_running\n",
    "    if not is_running:\n",
    "        is_running = True\n",
    "        process_video()\n",
    "\n",
    "def stop_recognition():\n",
    "    global is_running\n",
    "    is_running = False\n",
    "\n",
    "# ---- Buttons ----\n",
    "start_button = ttk.Button(footer_frame, text=\"Start\", style=\"Start.TButton\", command=start_recognition)\n",
    "start_button.pack(side=\"left\", padx=20, pady=10)\n",
    "\n",
    "stop_button = ttk.Button(footer_frame, text=\"Stop\", style=\"Stop.TButton\", command=stop_recognition)\n",
    "stop_button.pack(side=\"right\", padx=20, pady=10)\n",
    "\n",
    "# Run UI\n",
    "root.mainloop()\n",
    "\n",
    "# Release resources\n",
    "cap.release()\n",
    "cv2.destroyAllWindows()\n"
   ]
  },
  {
   "cell_type": "code",
   "execution_count": null,
   "id": "aa390543-b95b-4808-99aa-21187d0b2187",
   "metadata": {},
   "outputs": [],
   "source": []
  }
 ],
 "metadata": {
  "kernelspec": {
   "display_name": "Python [conda env:base] *",
   "language": "python",
   "name": "conda-base-py"
  },
  "language_info": {
   "codemirror_mode": {
    "name": "ipython",
    "version": 3
   },
   "file_extension": ".py",
   "mimetype": "text/x-python",
   "name": "python",
   "nbconvert_exporter": "python",
   "pygments_lexer": "ipython3",
   "version": "3.12.7"
  }
 },
 "nbformat": 4,
 "nbformat_minor": 5
}
